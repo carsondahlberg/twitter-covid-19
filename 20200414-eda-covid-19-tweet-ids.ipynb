{
 "cells": [
  {
   "cell_type": "code",
   "execution_count": 1,
   "metadata": {},
   "outputs": [],
   "source": [
    "%load_ext autoreload\n",
    "%autoreload 2\n",
    "%matplotlib inline"
   ]
  },
  {
   "cell_type": "markdown",
   "metadata": {},
   "source": [
    "# eda for covid-19 tweets\n",
    "---\n",
    "carson dahlberg\n",
    "1. download the text files of ids\n",
    "  1. https://github.com/echen102/COVID-19-TweetIDs\n",
    "1. process the tokens\n",
    "  1. https://github.com/DocNow/twarc\n",
    "1. explore trends\n",
    "1. where on earth (location) https://web.archive.org/web/20180102203025/https://developer.yahoo.com/geo/geoplanet/"
   ]
  },
  {
   "cell_type": "markdown",
   "metadata": {},
   "source": [
    "## data\n",
    "---\n",
    "Emily Chen, Kristina Lerman, and Emilio Ferrara. 2020. #COVID-19: The First Public Coronavirus Twitter Dataset. arXiv:cs.SI/2003.07372, 2020\n",
    "* 50 million tweets from the inception until March 16, 2020, constituting roughly 450 GB of raw data.\n",
    "* By continuously monitoring Twitter’s trending topics, keywords and sources associated with COVID-19, we did our best to capture conversations related to the coronavirus outbreak\n",
    "* tracked keywords, account names and various languages"
   ]
  },
  {
   "cell_type": "code",
   "execution_count": 2,
   "metadata": {},
   "outputs": [
    {
     "name": "stderr",
     "output_type": "stream",
     "text": [
      "/home/carson/anaconda3/lib/python3.7/site-packages/sklearn/utils/deprecation.py:144: FutureWarning: The sklearn.feature_extraction.stop_words module is  deprecated in version 0.22 and will be removed in version 0.24. The corresponding classes / functions should instead be imported from sklearn.feature_extraction.text. Anything that cannot be imported from sklearn.feature_extraction.text is now part of the private API.\n",
      "  warnings.warn(message, FutureWarning)\n"
     ]
    }
   ],
   "source": [
    "import pandas as pd\n",
    "import numpy as np\n",
    "from pathlib import Path\n",
    "import pickle\n",
    "\n",
    "# stopwords \n",
    "from sklearn.feature_extraction.text import ENGLISH_STOP_WORDS\n",
    "import matplotlib.pyplot as plt\n",
    "\n",
    "# for visualizing text\n",
    "import scattertext as st"
   ]
  },
  {
   "cell_type": "code",
   "execution_count": 3,
   "metadata": {},
   "outputs": [],
   "source": [
    "from twarc import Twarc"
   ]
  },
  {
   "cell_type": "code",
   "execution_count": 4,
   "metadata": {},
   "outputs": [],
   "source": [
    "creds = Path(\"../ucsd_msds/python_for_ds/Week-8-NLP-Databases\")\n",
    "\n",
    "#march_cov_files = !ls ../COVID-19-TweetIDs/2020-03\n",
    "data = Path(\"../COVID-19-TweetIDs/2020-03\")"
   ]
  },
  {
   "cell_type": "code",
   "execution_count": 5,
   "metadata": {},
   "outputs": [],
   "source": [
    "def display_all(df):\n",
    "    with pd.option_context('display.max_rows', None, \n",
    "                           'display.max_columns', None, \n",
    "                           'display.width', None, \n",
    "                           'display.max_colwidth', -1):\n",
    "        display(df)"
   ]
  },
  {
   "cell_type": "code",
   "execution_count": 6,
   "metadata": {},
   "outputs": [],
   "source": [
    "# load creds\n",
    "#if not os.path.exists(creds/'secret_twitter_credentials.pkl'):\n",
    "if not creds/'secret_twitter_credentials.pkl':\n",
    "    # this only needs to be done once\n",
    "    # then DELETE the credentials\n",
    "    Twitter={}\n",
    "    Twitter['Consumer Key'] = ''\n",
    "    Twitter['Consumer Secret'] = ''\n",
    "    Twitter['Access Token'] = ''\n",
    "    Twitter['Access Token Secret'] = ''\n",
    "    with open('secret_twitter_credentials.pkl','wb') as f:\n",
    "        pickle.dump(Twitter, f)\n",
    "else:\n",
    "    Twitter=pickle.load(open(creds/'secret_twitter_credentials.pkl','rb'))"
   ]
  },
  {
   "cell_type": "code",
   "execution_count": 7,
   "metadata": {},
   "outputs": [],
   "source": [
    "#[f for f in list(data.iterdir()) if \"2020-03-31\"][-5:]"
   ]
  },
  {
   "cell_type": "markdown",
   "metadata": {},
   "source": [
    "### how big is this data?"
   ]
  },
  {
   "cell_type": "code",
   "execution_count": 44,
   "metadata": {},
   "outputs": [],
   "source": [
    "sz_list = []\n",
    "for f in [f for f in list(data.iterdir()) if \"2020-03-31\"]:\n",
    "    sz = !wc -l {f}\n",
    "    sz_list.append(sz.nlstr.strip().replace('  ',' ').split(' '))"
   ]
  },
  {
   "cell_type": "code",
   "execution_count": null,
   "metadata": {},
   "outputs": [],
   "source": []
  },
  {
   "cell_type": "code",
   "execution_count": 52,
   "metadata": {},
   "outputs": [
    {
     "data": {
      "text/html": [
       "<div>\n",
       "<style scoped>\n",
       "    .dataframe tbody tr th:only-of-type {\n",
       "        vertical-align: middle;\n",
       "    }\n",
       "\n",
       "    .dataframe tbody tr th {\n",
       "        vertical-align: top;\n",
       "    }\n",
       "\n",
       "    .dataframe thead th {\n",
       "        text-align: right;\n",
       "    }\n",
       "</style>\n",
       "<table border=\"1\" class=\"dataframe\">\n",
       "  <thead>\n",
       "    <tr style=\"text-align: right;\">\n",
       "      <th></th>\n",
       "      <th>lines</th>\n",
       "      <th>file</th>\n",
       "      <th>date</th>\n",
       "    </tr>\n",
       "  </thead>\n",
       "  <tbody>\n",
       "    <tr>\n",
       "      <th>0</th>\n",
       "      <td>150126</td>\n",
       "      <td>../COVID-19-TweetIDs/2020-03/coronavirus-tweet-id-2020-03-01-00.txt</td>\n",
       "      <td>2020-03-01-00</td>\n",
       "    </tr>\n",
       "    <tr>\n",
       "      <th>1</th>\n",
       "      <td>138592</td>\n",
       "      <td>../COVID-19-TweetIDs/2020-03/coronavirus-tweet-id-2020-03-01-01.txt</td>\n",
       "      <td>2020-03-01-01</td>\n",
       "    </tr>\n",
       "    <tr>\n",
       "      <th>2</th>\n",
       "      <td>132778</td>\n",
       "      <td>../COVID-19-TweetIDs/2020-03/coronavirus-tweet-id-2020-03-01-02.txt</td>\n",
       "      <td>2020-03-01-02</td>\n",
       "    </tr>\n",
       "    <tr>\n",
       "      <th>3</th>\n",
       "      <td>144540</td>\n",
       "      <td>../COVID-19-TweetIDs/2020-03/coronavirus-tweet-id-2020-03-01-03.txt</td>\n",
       "      <td>2020-03-01-03</td>\n",
       "    </tr>\n",
       "    <tr>\n",
       "      <th>4</th>\n",
       "      <td>124251</td>\n",
       "      <td>../COVID-19-TweetIDs/2020-03/coronavirus-tweet-id-2020-03-01-04.txt</td>\n",
       "      <td>2020-03-01-04</td>\n",
       "    </tr>\n",
       "  </tbody>\n",
       "</table>\n",
       "</div>"
      ],
      "text/plain": [
       "    lines  \\\n",
       "0  150126   \n",
       "1  138592   \n",
       "2  132778   \n",
       "3  144540   \n",
       "4  124251   \n",
       "\n",
       "                                                                  file  \\\n",
       "0  ../COVID-19-TweetIDs/2020-03/coronavirus-tweet-id-2020-03-01-00.txt   \n",
       "1  ../COVID-19-TweetIDs/2020-03/coronavirus-tweet-id-2020-03-01-01.txt   \n",
       "2  ../COVID-19-TweetIDs/2020-03/coronavirus-tweet-id-2020-03-01-02.txt   \n",
       "3  ../COVID-19-TweetIDs/2020-03/coronavirus-tweet-id-2020-03-01-03.txt   \n",
       "4  ../COVID-19-TweetIDs/2020-03/coronavirus-tweet-id-2020-03-01-04.txt   \n",
       "\n",
       "            date  \n",
       "0  2020-03-01-00  \n",
       "1  2020-03-01-01  \n",
       "2  2020-03-01-02  \n",
       "3  2020-03-01-03  \n",
       "4  2020-03-01-04  "
      ]
     },
     "metadata": {},
     "output_type": "display_data"
    },
    {
     "name": "stdout",
     "output_type": "stream",
     "text": [
      "<class 'pandas.core.frame.DataFrame'>\n",
      "RangeIndex: 744 entries, 0 to 743\n",
      "Data columns (total 3 columns):\n",
      " #   Column  Non-Null Count  Dtype \n",
      "---  ------  --------------  ----- \n",
      " 0   lines   744 non-null    int64 \n",
      " 1   file    744 non-null    object\n",
      " 2   date    744 non-null    object\n",
      "dtypes: int64(1), object(2)\n",
      "memory usage: 17.6+ KB\n"
     ]
    }
   ],
   "source": [
    "file_sz = pd.DataFrame(sz_list,columns=['lines','file'])\n",
    "file_sz['date'] = file_sz['file'].apply(lambda x: x.split('/')[-1].replace('coronavirus-tweet-id-','').replace('.txt',''))\n",
    "file_sz['lines'] = file_sz['lines'].astype('int')\n",
    "display_all(file_sz.head())\n",
    "file_sz.info()"
   ]
  },
  {
   "cell_type": "code",
   "execution_count": 51,
   "metadata": {},
   "outputs": [
    {
     "data": {
      "text/plain": [
       "<matplotlib.axes._subplots.AxesSubplot at 0x7f214adbb0f0>"
      ]
     },
     "execution_count": 51,
     "metadata": {},
     "output_type": "execute_result"
    },
    {
     "data": {
      "image/png": "[encoded data removed]",
      "text/plain": [
       "<Figure size 432x288 with 1 Axes>"
      ]
     },
     "metadata": {
      "needs_background": "light"
     },
     "output_type": "display_data"
    }
   ],
   "source": [
    "# plot\n",
    "file_sz[['date','lines']].plot(kind='line')"
   ]
  },
  {
   "cell_type": "code",
   "execution_count": null,
   "metadata": {},
   "outputs": [],
   "source": [
    "# try to hydrate the text\n",
    "for tweet in t.hydrate(open('../COVID-19-TweetIDs/2020-03/coronavirus-tweet-id-2020-03-01-00.txt')):\n",
    "    print(tweet[\"text\"])"
   ]
  },
  {
   "cell_type": "code",
   "execution_count": null,
   "metadata": {},
   "outputs": [],
   "source": []
  },
  {
   "cell_type": "code",
   "execution_count": null,
   "metadata": {},
   "outputs": [],
   "source": []
  },
  {
   "cell_type": "code",
   "execution_count": null,
   "metadata": {},
   "outputs": [],
   "source": []
  },
  {
   "cell_type": "code",
   "execution_count": null,
   "metadata": {},
   "outputs": [],
   "source": []
  },
  {
   "cell_type": "code",
   "execution_count": null,
   "metadata": {},
   "outputs": [],
   "source": []
  }
 ],
 "metadata": {
  "kernelspec": {
   "display_name": "Python 3",
   "language": "python",
   "name": "python3"
  },
  "language_info": {
   "codemirror_mode": {
    "name": "ipython",
    "version": 3
   },
   "file_extension": ".py",
   "mimetype": "text/x-python",
   "name": "python",
   "nbconvert_exporter": "python",
   "pygments_lexer": "ipython3",
   "version": "3.7.3"
  }
 },
 "nbformat": 4,
 "nbformat_minor": 4
}
